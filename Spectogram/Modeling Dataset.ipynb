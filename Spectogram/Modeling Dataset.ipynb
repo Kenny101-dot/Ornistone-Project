{
 "cells": [
  {
   "cell_type": "code",
   "execution_count": 1,
   "metadata": {},
   "outputs": [],
   "source": [
    "import pandas as pd\n",
    "import numpy as np"
   ]
  },
  {
   "cell_type": "code",
   "execution_count": null,
   "metadata": {},
   "outputs": [],
   "source": []
  },
  {
   "cell_type": "code",
   "execution_count": 5,
   "metadata": {},
   "outputs": [],
   "source": [
    "df = pd.read_csv('../data/cleaned_bird_list.csv')"
   ]
  },
  {
   "cell_type": "code",
   "execution_count": 6,
   "metadata": {},
   "outputs": [
    {
     "data": {
      "text/html": [
       "<div>\n",
       "<style scoped>\n",
       "    .dataframe tbody tr th:only-of-type {\n",
       "        vertical-align: middle;\n",
       "    }\n",
       "\n",
       "    .dataframe tbody tr th {\n",
       "        vertical-align: top;\n",
       "    }\n",
       "\n",
       "    .dataframe thead th {\n",
       "        text-align: right;\n",
       "    }\n",
       "</style>\n",
       "<table border=\"1\" class=\"dataframe\">\n",
       "  <thead>\n",
       "    <tr style=\"text-align: right;\">\n",
       "      <th></th>\n",
       "      <th>common_name</th>\n",
       "      <th>count</th>\n",
       "      <th>scientific_name</th>\n",
       "      <th>primary_label</th>\n",
       "      <th>IUCN Red List category (Europe)</th>\n",
       "      <th>IUCN Red List category (EU27+UK)</th>\n",
       "    </tr>\n",
       "  </thead>\n",
       "  <tbody>\n",
       "    <tr>\n",
       "      <th>0</th>\n",
       "      <td>Arctic Tern</td>\n",
       "      <td>162</td>\n",
       "      <td>sterna paradisaea</td>\n",
       "      <td>arcter</td>\n",
       "      <td>LC</td>\n",
       "      <td>LC</td>\n",
       "    </tr>\n",
       "    <tr>\n",
       "      <th>1</th>\n",
       "      <td>Bank Swallow</td>\n",
       "      <td>86</td>\n",
       "      <td>riparia riparia</td>\n",
       "      <td>banswa</td>\n",
       "      <td>LC</td>\n",
       "      <td>LC</td>\n",
       "    </tr>\n",
       "    <tr>\n",
       "      <th>2</th>\n",
       "      <td>Barn Owl</td>\n",
       "      <td>387</td>\n",
       "      <td>tyto alba</td>\n",
       "      <td>brnowl</td>\n",
       "      <td>LC</td>\n",
       "      <td>LC</td>\n",
       "    </tr>\n",
       "    <tr>\n",
       "      <th>3</th>\n",
       "      <td>Barn Swallow</td>\n",
       "      <td>981</td>\n",
       "      <td>hirundo rustica</td>\n",
       "      <td>barswa</td>\n",
       "      <td>LC</td>\n",
       "      <td>LC</td>\n",
       "    </tr>\n",
       "    <tr>\n",
       "      <th>4</th>\n",
       "      <td>Black Francolin</td>\n",
       "      <td>6</td>\n",
       "      <td>francolinus francolinus</td>\n",
       "      <td>blkfra</td>\n",
       "      <td>LC</td>\n",
       "      <td>LC</td>\n",
       "    </tr>\n",
       "  </tbody>\n",
       "</table>\n",
       "</div>"
      ],
      "text/plain": [
       "       common_name  count          scientific_name primary_label   \n",
       "0      Arctic Tern    162        sterna paradisaea        arcter  \\\n",
       "1     Bank Swallow     86          riparia riparia        banswa   \n",
       "2         Barn Owl    387                tyto alba        brnowl   \n",
       "3     Barn Swallow    981          hirundo rustica        barswa   \n",
       "4  Black Francolin      6  francolinus francolinus        blkfra   \n",
       "\n",
       "  IUCN Red List category (Europe) IUCN Red List category (EU27+UK)  \n",
       "0                              LC                               LC  \n",
       "1                              LC                               LC  \n",
       "2                              LC                               LC  \n",
       "3                              LC                               LC  \n",
       "4                              LC                               LC  "
      ]
     },
     "execution_count": 6,
     "metadata": {},
     "output_type": "execute_result"
    }
   ],
   "source": [
    "df.head()"
   ]
  },
  {
   "cell_type": "code",
   "execution_count": null,
   "metadata": {},
   "outputs": [
    {
     "ename": "KeyError",
     "evalue": "\"['IUCN Red List category (Europe)'] not found in axis\"",
     "output_type": "error",
     "traceback": [
      "\u001b[0;31m---------------------------------------------------------------------------\u001b[0m",
      "\u001b[0;31mKeyError\u001b[0m                                  Traceback (most recent call last)",
      "Cell \u001b[0;32mIn[8], line 1\u001b[0m\n\u001b[0;32m----> 1\u001b[0m \u001b[43mdf\u001b[49m\u001b[38;5;241;43m.\u001b[39;49m\u001b[43mdrop\u001b[49m\u001b[43m(\u001b[49m\u001b[43mcolumns\u001b[49m\u001b[38;5;241;43m=\u001b[39;49m\u001b[43m[\u001b[49m\u001b[38;5;124;43m'\u001b[39;49m\u001b[38;5;124;43mIUCN Red List category (Europe)\u001b[39;49m\u001b[38;5;124;43m'\u001b[39;49m\u001b[43m]\u001b[49m\u001b[43m,\u001b[49m\u001b[43m \u001b[49m\u001b[43minplace\u001b[49m\u001b[38;5;241;43m=\u001b[39;49m\u001b[38;5;28;43;01mTrue\u001b[39;49;00m\u001b[43m)\u001b[49m\n\u001b[1;32m      2\u001b[0m df\u001b[38;5;241m.\u001b[39mhead()\n",
      "File \u001b[0;32m~/Documents/CAPSTONE PROJECT/Ornistone-Project/.venv/lib/python3.11/site-packages/pandas/core/frame.py:5268\u001b[0m, in \u001b[0;36mDataFrame.drop\u001b[0;34m(self, labels, axis, index, columns, level, inplace, errors)\u001b[0m\n\u001b[1;32m   5120\u001b[0m \u001b[38;5;28;01mdef\u001b[39;00m\u001b[38;5;250m \u001b[39m\u001b[38;5;21mdrop\u001b[39m(\n\u001b[1;32m   5121\u001b[0m     \u001b[38;5;28mself\u001b[39m,\n\u001b[1;32m   5122\u001b[0m     labels: IndexLabel \u001b[38;5;241m=\u001b[39m \u001b[38;5;28;01mNone\u001b[39;00m,\n\u001b[0;32m   (...)\u001b[0m\n\u001b[1;32m   5129\u001b[0m     errors: IgnoreRaise \u001b[38;5;241m=\u001b[39m \u001b[38;5;124m\"\u001b[39m\u001b[38;5;124mraise\u001b[39m\u001b[38;5;124m\"\u001b[39m,\n\u001b[1;32m   5130\u001b[0m ) \u001b[38;5;241m-\u001b[39m\u001b[38;5;241m>\u001b[39m DataFrame \u001b[38;5;241m|\u001b[39m \u001b[38;5;28;01mNone\u001b[39;00m:\n\u001b[1;32m   5131\u001b[0m \u001b[38;5;250m    \u001b[39m\u001b[38;5;124;03m\"\"\"\u001b[39;00m\n\u001b[1;32m   5132\u001b[0m \u001b[38;5;124;03m    Drop specified labels from rows or columns.\u001b[39;00m\n\u001b[1;32m   5133\u001b[0m \n\u001b[0;32m   (...)\u001b[0m\n\u001b[1;32m   5266\u001b[0m \u001b[38;5;124;03m            weight  1.0     0.8\u001b[39;00m\n\u001b[1;32m   5267\u001b[0m \u001b[38;5;124;03m    \"\"\"\u001b[39;00m\n\u001b[0;32m-> 5268\u001b[0m     \u001b[38;5;28;01mreturn\u001b[39;00m \u001b[38;5;28;43msuper\u001b[39;49m\u001b[43m(\u001b[49m\u001b[43m)\u001b[49m\u001b[38;5;241;43m.\u001b[39;49m\u001b[43mdrop\u001b[49m\u001b[43m(\u001b[49m\n\u001b[1;32m   5269\u001b[0m \u001b[43m        \u001b[49m\u001b[43mlabels\u001b[49m\u001b[38;5;241;43m=\u001b[39;49m\u001b[43mlabels\u001b[49m\u001b[43m,\u001b[49m\n\u001b[1;32m   5270\u001b[0m \u001b[43m        \u001b[49m\u001b[43maxis\u001b[49m\u001b[38;5;241;43m=\u001b[39;49m\u001b[43maxis\u001b[49m\u001b[43m,\u001b[49m\n\u001b[1;32m   5271\u001b[0m \u001b[43m        \u001b[49m\u001b[43mindex\u001b[49m\u001b[38;5;241;43m=\u001b[39;49m\u001b[43mindex\u001b[49m\u001b[43m,\u001b[49m\n\u001b[1;32m   5272\u001b[0m \u001b[43m        \u001b[49m\u001b[43mcolumns\u001b[49m\u001b[38;5;241;43m=\u001b[39;49m\u001b[43mcolumns\u001b[49m\u001b[43m,\u001b[49m\n\u001b[1;32m   5273\u001b[0m \u001b[43m        \u001b[49m\u001b[43mlevel\u001b[49m\u001b[38;5;241;43m=\u001b[39;49m\u001b[43mlevel\u001b[49m\u001b[43m,\u001b[49m\n\u001b[1;32m   5274\u001b[0m \u001b[43m        \u001b[49m\u001b[43minplace\u001b[49m\u001b[38;5;241;43m=\u001b[39;49m\u001b[43minplace\u001b[49m\u001b[43m,\u001b[49m\n\u001b[1;32m   5275\u001b[0m \u001b[43m        \u001b[49m\u001b[43merrors\u001b[49m\u001b[38;5;241;43m=\u001b[39;49m\u001b[43merrors\u001b[49m\u001b[43m,\u001b[49m\n\u001b[1;32m   5276\u001b[0m \u001b[43m    \u001b[49m\u001b[43m)\u001b[49m\n",
      "File \u001b[0;32m~/Documents/CAPSTONE PROJECT/Ornistone-Project/.venv/lib/python3.11/site-packages/pandas/core/generic.py:4549\u001b[0m, in \u001b[0;36mNDFrame.drop\u001b[0;34m(self, labels, axis, index, columns, level, inplace, errors)\u001b[0m\n\u001b[1;32m   4547\u001b[0m \u001b[38;5;28;01mfor\u001b[39;00m axis, labels \u001b[38;5;129;01min\u001b[39;00m axes\u001b[38;5;241m.\u001b[39mitems():\n\u001b[1;32m   4548\u001b[0m     \u001b[38;5;28;01mif\u001b[39;00m labels \u001b[38;5;129;01mis\u001b[39;00m \u001b[38;5;129;01mnot\u001b[39;00m \u001b[38;5;28;01mNone\u001b[39;00m:\n\u001b[0;32m-> 4549\u001b[0m         obj \u001b[38;5;241m=\u001b[39m \u001b[43mobj\u001b[49m\u001b[38;5;241;43m.\u001b[39;49m\u001b[43m_drop_axis\u001b[49m\u001b[43m(\u001b[49m\u001b[43mlabels\u001b[49m\u001b[43m,\u001b[49m\u001b[43m \u001b[49m\u001b[43maxis\u001b[49m\u001b[43m,\u001b[49m\u001b[43m \u001b[49m\u001b[43mlevel\u001b[49m\u001b[38;5;241;43m=\u001b[39;49m\u001b[43mlevel\u001b[49m\u001b[43m,\u001b[49m\u001b[43m \u001b[49m\u001b[43merrors\u001b[49m\u001b[38;5;241;43m=\u001b[39;49m\u001b[43merrors\u001b[49m\u001b[43m)\u001b[49m\n\u001b[1;32m   4551\u001b[0m \u001b[38;5;28;01mif\u001b[39;00m inplace:\n\u001b[1;32m   4552\u001b[0m     \u001b[38;5;28mself\u001b[39m\u001b[38;5;241m.\u001b[39m_update_inplace(obj)\n",
      "File \u001b[0;32m~/Documents/CAPSTONE PROJECT/Ornistone-Project/.venv/lib/python3.11/site-packages/pandas/core/generic.py:4591\u001b[0m, in \u001b[0;36mNDFrame._drop_axis\u001b[0;34m(self, labels, axis, level, errors, only_slice)\u001b[0m\n\u001b[1;32m   4589\u001b[0m         new_axis \u001b[38;5;241m=\u001b[39m axis\u001b[38;5;241m.\u001b[39mdrop(labels, level\u001b[38;5;241m=\u001b[39mlevel, errors\u001b[38;5;241m=\u001b[39merrors)\n\u001b[1;32m   4590\u001b[0m     \u001b[38;5;28;01melse\u001b[39;00m:\n\u001b[0;32m-> 4591\u001b[0m         new_axis \u001b[38;5;241m=\u001b[39m \u001b[43maxis\u001b[49m\u001b[38;5;241;43m.\u001b[39;49m\u001b[43mdrop\u001b[49m\u001b[43m(\u001b[49m\u001b[43mlabels\u001b[49m\u001b[43m,\u001b[49m\u001b[43m \u001b[49m\u001b[43merrors\u001b[49m\u001b[38;5;241;43m=\u001b[39;49m\u001b[43merrors\u001b[49m\u001b[43m)\u001b[49m\n\u001b[1;32m   4592\u001b[0m     indexer \u001b[38;5;241m=\u001b[39m axis\u001b[38;5;241m.\u001b[39mget_indexer(new_axis)\n\u001b[1;32m   4594\u001b[0m \u001b[38;5;66;03m# Case for non-unique axis\u001b[39;00m\n\u001b[1;32m   4595\u001b[0m \u001b[38;5;28;01melse\u001b[39;00m:\n",
      "File \u001b[0;32m~/Documents/CAPSTONE PROJECT/Ornistone-Project/.venv/lib/python3.11/site-packages/pandas/core/indexes/base.py:6696\u001b[0m, in \u001b[0;36mIndex.drop\u001b[0;34m(self, labels, errors)\u001b[0m\n\u001b[1;32m   6694\u001b[0m \u001b[38;5;28;01mif\u001b[39;00m mask\u001b[38;5;241m.\u001b[39many():\n\u001b[1;32m   6695\u001b[0m     \u001b[38;5;28;01mif\u001b[39;00m errors \u001b[38;5;241m!=\u001b[39m \u001b[38;5;124m\"\u001b[39m\u001b[38;5;124mignore\u001b[39m\u001b[38;5;124m\"\u001b[39m:\n\u001b[0;32m-> 6696\u001b[0m         \u001b[38;5;28;01mraise\u001b[39;00m \u001b[38;5;167;01mKeyError\u001b[39;00m(\u001b[38;5;124mf\u001b[39m\u001b[38;5;124m\"\u001b[39m\u001b[38;5;132;01m{\u001b[39;00m\u001b[38;5;28mlist\u001b[39m(labels[mask])\u001b[38;5;132;01m}\u001b[39;00m\u001b[38;5;124m not found in axis\u001b[39m\u001b[38;5;124m\"\u001b[39m)\n\u001b[1;32m   6697\u001b[0m     indexer \u001b[38;5;241m=\u001b[39m indexer[\u001b[38;5;241m~\u001b[39mmask]\n\u001b[1;32m   6698\u001b[0m \u001b[38;5;28;01mreturn\u001b[39;00m \u001b[38;5;28mself\u001b[39m\u001b[38;5;241m.\u001b[39mdelete(indexer)\n",
      "\u001b[0;31mKeyError\u001b[0m: \"['IUCN Red List category (Europe)'] not found in axis\""
     ]
    }
   ],
   "source": [
    "df.drop(columns=['IUCN Red List category (Europe)'], inplace=True)\n"
   ]
  },
  {
   "cell_type": "code",
   "execution_count": 9,
   "metadata": {},
   "outputs": [
    {
     "data": {
      "text/html": [
       "<div>\n",
       "<style scoped>\n",
       "    .dataframe tbody tr th:only-of-type {\n",
       "        vertical-align: middle;\n",
       "    }\n",
       "\n",
       "    .dataframe tbody tr th {\n",
       "        vertical-align: top;\n",
       "    }\n",
       "\n",
       "    .dataframe thead th {\n",
       "        text-align: right;\n",
       "    }\n",
       "</style>\n",
       "<table border=\"1\" class=\"dataframe\">\n",
       "  <thead>\n",
       "    <tr style=\"text-align: right;\">\n",
       "      <th></th>\n",
       "      <th>common_name</th>\n",
       "      <th>count</th>\n",
       "      <th>scientific_name</th>\n",
       "      <th>primary_label</th>\n",
       "      <th>IUCN Red List category (EU27+UK)</th>\n",
       "    </tr>\n",
       "  </thead>\n",
       "  <tbody>\n",
       "    <tr>\n",
       "      <th>0</th>\n",
       "      <td>Arctic Tern</td>\n",
       "      <td>162</td>\n",
       "      <td>sterna paradisaea</td>\n",
       "      <td>arcter</td>\n",
       "      <td>LC</td>\n",
       "    </tr>\n",
       "    <tr>\n",
       "      <th>1</th>\n",
       "      <td>Bank Swallow</td>\n",
       "      <td>86</td>\n",
       "      <td>riparia riparia</td>\n",
       "      <td>banswa</td>\n",
       "      <td>LC</td>\n",
       "    </tr>\n",
       "    <tr>\n",
       "      <th>2</th>\n",
       "      <td>Barn Owl</td>\n",
       "      <td>387</td>\n",
       "      <td>tyto alba</td>\n",
       "      <td>brnowl</td>\n",
       "      <td>LC</td>\n",
       "    </tr>\n",
       "    <tr>\n",
       "      <th>3</th>\n",
       "      <td>Barn Swallow</td>\n",
       "      <td>981</td>\n",
       "      <td>hirundo rustica</td>\n",
       "      <td>barswa</td>\n",
       "      <td>LC</td>\n",
       "    </tr>\n",
       "    <tr>\n",
       "      <th>4</th>\n",
       "      <td>Black Francolin</td>\n",
       "      <td>6</td>\n",
       "      <td>francolinus francolinus</td>\n",
       "      <td>blkfra</td>\n",
       "      <td>LC</td>\n",
       "    </tr>\n",
       "  </tbody>\n",
       "</table>\n",
       "</div>"
      ],
      "text/plain": [
       "       common_name  count          scientific_name primary_label   \n",
       "0      Arctic Tern    162        sterna paradisaea        arcter  \\\n",
       "1     Bank Swallow     86          riparia riparia        banswa   \n",
       "2         Barn Owl    387                tyto alba        brnowl   \n",
       "3     Barn Swallow    981          hirundo rustica        barswa   \n",
       "4  Black Francolin      6  francolinus francolinus        blkfra   \n",
       "\n",
       "  IUCN Red List category (EU27+UK)  \n",
       "0                               LC  \n",
       "1                               LC  \n",
       "2                               LC  \n",
       "3                               LC  \n",
       "4                               LC  "
      ]
     },
     "execution_count": 9,
     "metadata": {},
     "output_type": "execute_result"
    }
   ],
   "source": [
    "df.head()"
   ]
  },
  {
   "cell_type": "code",
   "execution_count": 10,
   "metadata": {},
   "outputs": [],
   "source": [
    "df.rename(columns={'IUCN Red List category (EU27+UK)': 'Red List Status'}, inplace=True)"
   ]
  },
  {
   "cell_type": "code",
   "execution_count": 11,
   "metadata": {},
   "outputs": [
    {
     "data": {
      "text/html": [
       "<div>\n",
       "<style scoped>\n",
       "    .dataframe tbody tr th:only-of-type {\n",
       "        vertical-align: middle;\n",
       "    }\n",
       "\n",
       "    .dataframe tbody tr th {\n",
       "        vertical-align: top;\n",
       "    }\n",
       "\n",
       "    .dataframe thead th {\n",
       "        text-align: right;\n",
       "    }\n",
       "</style>\n",
       "<table border=\"1\" class=\"dataframe\">\n",
       "  <thead>\n",
       "    <tr style=\"text-align: right;\">\n",
       "      <th></th>\n",
       "      <th>common_name</th>\n",
       "      <th>count</th>\n",
       "      <th>scientific_name</th>\n",
       "      <th>primary_label</th>\n",
       "      <th>Red List Status</th>\n",
       "    </tr>\n",
       "  </thead>\n",
       "  <tbody>\n",
       "    <tr>\n",
       "      <th>0</th>\n",
       "      <td>Arctic Tern</td>\n",
       "      <td>162</td>\n",
       "      <td>sterna paradisaea</td>\n",
       "      <td>arcter</td>\n",
       "      <td>LC</td>\n",
       "    </tr>\n",
       "    <tr>\n",
       "      <th>1</th>\n",
       "      <td>Bank Swallow</td>\n",
       "      <td>86</td>\n",
       "      <td>riparia riparia</td>\n",
       "      <td>banswa</td>\n",
       "      <td>LC</td>\n",
       "    </tr>\n",
       "    <tr>\n",
       "      <th>2</th>\n",
       "      <td>Barn Owl</td>\n",
       "      <td>387</td>\n",
       "      <td>tyto alba</td>\n",
       "      <td>brnowl</td>\n",
       "      <td>LC</td>\n",
       "    </tr>\n",
       "    <tr>\n",
       "      <th>3</th>\n",
       "      <td>Barn Swallow</td>\n",
       "      <td>981</td>\n",
       "      <td>hirundo rustica</td>\n",
       "      <td>barswa</td>\n",
       "      <td>LC</td>\n",
       "    </tr>\n",
       "    <tr>\n",
       "      <th>4</th>\n",
       "      <td>Black Francolin</td>\n",
       "      <td>6</td>\n",
       "      <td>francolinus francolinus</td>\n",
       "      <td>blkfra</td>\n",
       "      <td>LC</td>\n",
       "    </tr>\n",
       "  </tbody>\n",
       "</table>\n",
       "</div>"
      ],
      "text/plain": [
       "       common_name  count          scientific_name primary_label   \n",
       "0      Arctic Tern    162        sterna paradisaea        arcter  \\\n",
       "1     Bank Swallow     86          riparia riparia        banswa   \n",
       "2         Barn Owl    387                tyto alba        brnowl   \n",
       "3     Barn Swallow    981          hirundo rustica        barswa   \n",
       "4  Black Francolin      6  francolinus francolinus        blkfra   \n",
       "\n",
       "  Red List Status  \n",
       "0              LC  \n",
       "1              LC  \n",
       "2              LC  \n",
       "3              LC  \n",
       "4              LC  "
      ]
     },
     "execution_count": 11,
     "metadata": {},
     "output_type": "execute_result"
    }
   ],
   "source": [
    "df.head()"
   ]
  },
  {
   "cell_type": "code",
   "execution_count": 13,
   "metadata": {},
   "outputs": [
    {
     "data": {
      "text/plain": [
       "array(['LC', 'NT', 'VU', 'EN', 'VU°°', 'VU°'], dtype=object)"
      ]
     },
     "execution_count": 13,
     "metadata": {},
     "output_type": "execute_result"
    }
   ],
   "source": [
    "df['Red List Status'].unique()"
   ]
  },
  {
   "cell_type": "code",
   "execution_count": null,
   "metadata": {},
   "outputs": [],
   "source": [
    "df['Red List Status'].replace({'NT': 'VU', 'VU°': 'VU', 'VU°°': 'VU'}, inplace=True)"
   ]
  },
  {
   "cell_type": "code",
   "execution_count": 15,
   "metadata": {},
   "outputs": [
    {
     "data": {
      "text/html": [
       "<div>\n",
       "<style scoped>\n",
       "    .dataframe tbody tr th:only-of-type {\n",
       "        vertical-align: middle;\n",
       "    }\n",
       "\n",
       "    .dataframe tbody tr th {\n",
       "        vertical-align: top;\n",
       "    }\n",
       "\n",
       "    .dataframe thead th {\n",
       "        text-align: right;\n",
       "    }\n",
       "</style>\n",
       "<table border=\"1\" class=\"dataframe\">\n",
       "  <thead>\n",
       "    <tr style=\"text-align: right;\">\n",
       "      <th></th>\n",
       "      <th>common_name</th>\n",
       "      <th>count</th>\n",
       "      <th>scientific_name</th>\n",
       "      <th>primary_label</th>\n",
       "      <th>Red List Status</th>\n",
       "    </tr>\n",
       "  </thead>\n",
       "  <tbody>\n",
       "    <tr>\n",
       "      <th>0</th>\n",
       "      <td>Arctic Tern</td>\n",
       "      <td>162</td>\n",
       "      <td>sterna paradisaea</td>\n",
       "      <td>arcter</td>\n",
       "      <td>LC</td>\n",
       "    </tr>\n",
       "    <tr>\n",
       "      <th>1</th>\n",
       "      <td>Bank Swallow</td>\n",
       "      <td>86</td>\n",
       "      <td>riparia riparia</td>\n",
       "      <td>banswa</td>\n",
       "      <td>LC</td>\n",
       "    </tr>\n",
       "    <tr>\n",
       "      <th>2</th>\n",
       "      <td>Barn Owl</td>\n",
       "      <td>387</td>\n",
       "      <td>tyto alba</td>\n",
       "      <td>brnowl</td>\n",
       "      <td>LC</td>\n",
       "    </tr>\n",
       "    <tr>\n",
       "      <th>3</th>\n",
       "      <td>Barn Swallow</td>\n",
       "      <td>981</td>\n",
       "      <td>hirundo rustica</td>\n",
       "      <td>barswa</td>\n",
       "      <td>LC</td>\n",
       "    </tr>\n",
       "    <tr>\n",
       "      <th>4</th>\n",
       "      <td>Black Francolin</td>\n",
       "      <td>6</td>\n",
       "      <td>francolinus francolinus</td>\n",
       "      <td>blkfra</td>\n",
       "      <td>LC</td>\n",
       "    </tr>\n",
       "  </tbody>\n",
       "</table>\n",
       "</div>"
      ],
      "text/plain": [
       "       common_name  count          scientific_name primary_label   \n",
       "0      Arctic Tern    162        sterna paradisaea        arcter  \\\n",
       "1     Bank Swallow     86          riparia riparia        banswa   \n",
       "2         Barn Owl    387                tyto alba        brnowl   \n",
       "3     Barn Swallow    981          hirundo rustica        barswa   \n",
       "4  Black Francolin      6  francolinus francolinus        blkfra   \n",
       "\n",
       "  Red List Status  \n",
       "0              LC  \n",
       "1              LC  \n",
       "2              LC  \n",
       "3              LC  \n",
       "4              LC  "
      ]
     },
     "execution_count": 15,
     "metadata": {},
     "output_type": "execute_result"
    }
   ],
   "source": [
    "df.head()"
   ]
  },
  {
   "cell_type": "code",
   "execution_count": 16,
   "metadata": {},
   "outputs": [
    {
     "data": {
      "text/plain": [
       "array(['LC', 'VU', 'EN'], dtype=object)"
      ]
     },
     "execution_count": 16,
     "metadata": {},
     "output_type": "execute_result"
    }
   ],
   "source": [
    "df['Red List Status'].unique()"
   ]
  },
  {
   "cell_type": "code",
   "execution_count": 17,
   "metadata": {},
   "outputs": [],
   "source": [
    "df.to_csv('final_bird_list.csv', index=False)"
   ]
  },
  {
   "cell_type": "code",
   "execution_count": 1,
   "metadata": {},
   "outputs": [],
   "source": [
    "import pandas as pd\n",
    "import numpy as np\n",
    "df1 = pd.read_csv('../data/finally_bird_list.csv')\n",
    "#df2 = pd.read_csv('../data/european_birds.csv')"
   ]
  },
  {
   "cell_type": "code",
   "execution_count": 3,
   "metadata": {},
   "outputs": [
    {
     "ename": "NameError",
     "evalue": "name 'df2' is not defined",
     "output_type": "error",
     "traceback": [
      "\u001b[0;31m---------------------------------------------------------------------------\u001b[0m",
      "\u001b[0;31mNameError\u001b[0m                                 Traceback (most recent call last)",
      "Cell \u001b[0;32mIn[3], line 2\u001b[0m\n\u001b[1;32m      1\u001b[0m df1[\u001b[38;5;124m'\u001b[39m\u001b[38;5;124msecondary_labels\u001b[39m\u001b[38;5;124m'\u001b[39m] \u001b[38;5;241m=\u001b[39m \u001b[38;5;28;01mNone\u001b[39;00m\n\u001b[0;32m----> 2\u001b[0m df1[\u001b[38;5;124m'\u001b[39m\u001b[38;5;124msecondary_labels\u001b[39m\u001b[38;5;124m'\u001b[39m] \u001b[38;5;241m=\u001b[39m \u001b[43mdf2\u001b[49m[\u001b[38;5;124m'\u001b[39m\u001b[38;5;124msecondary_labels\u001b[39m\u001b[38;5;124m'\u001b[39m]\n",
      "\u001b[0;31mNameError\u001b[0m: name 'df2' is not defined"
     ]
    }
   ],
   "source": [
    "df1['secondary_labels'] = None\n",
    "df1['secondary_labels'] = df2['secondary_labels']"
   ]
  },
  {
   "cell_type": "code",
   "execution_count": 2,
   "metadata": {},
   "outputs": [
    {
     "data": {
      "text/html": [
       "<div>\n",
       "<style scoped>\n",
       "    .dataframe tbody tr th:only-of-type {\n",
       "        vertical-align: middle;\n",
       "    }\n",
       "\n",
       "    .dataframe tbody tr th {\n",
       "        vertical-align: top;\n",
       "    }\n",
       "\n",
       "    .dataframe thead th {\n",
       "        text-align: right;\n",
       "    }\n",
       "</style>\n",
       "<table border=\"1\" class=\"dataframe\">\n",
       "  <thead>\n",
       "    <tr style=\"text-align: right;\">\n",
       "      <th></th>\n",
       "      <th>common_name</th>\n",
       "      <th>count</th>\n",
       "      <th>scientific_name</th>\n",
       "      <th>primary_label</th>\n",
       "      <th>Red List Status</th>\n",
       "    </tr>\n",
       "  </thead>\n",
       "  <tbody>\n",
       "    <tr>\n",
       "      <th>0</th>\n",
       "      <td>Arctic Tern</td>\n",
       "      <td>162</td>\n",
       "      <td>sterna paradisaea</td>\n",
       "      <td>arcter</td>\n",
       "      <td>LC</td>\n",
       "    </tr>\n",
       "    <tr>\n",
       "      <th>1</th>\n",
       "      <td>Bank Swallow</td>\n",
       "      <td>86</td>\n",
       "      <td>riparia riparia</td>\n",
       "      <td>banswa</td>\n",
       "      <td>LC</td>\n",
       "    </tr>\n",
       "    <tr>\n",
       "      <th>2</th>\n",
       "      <td>Barn Owl</td>\n",
       "      <td>387</td>\n",
       "      <td>tyto alba</td>\n",
       "      <td>brnowl</td>\n",
       "      <td>LC</td>\n",
       "    </tr>\n",
       "    <tr>\n",
       "      <th>3</th>\n",
       "      <td>Barn Swallow</td>\n",
       "      <td>981</td>\n",
       "      <td>hirundo rustica</td>\n",
       "      <td>barswa</td>\n",
       "      <td>LC</td>\n",
       "    </tr>\n",
       "    <tr>\n",
       "      <th>4</th>\n",
       "      <td>Black Kite</td>\n",
       "      <td>225</td>\n",
       "      <td>milvus migrans</td>\n",
       "      <td>blakit1</td>\n",
       "      <td>LC</td>\n",
       "    </tr>\n",
       "  </tbody>\n",
       "</table>\n",
       "</div>"
      ],
      "text/plain": [
       "    common_name  count    scientific_name primary_label Red List Status\n",
       "0   Arctic Tern    162  sterna paradisaea        arcter              LC\n",
       "1  Bank Swallow     86    riparia riparia        banswa              LC\n",
       "2      Barn Owl    387          tyto alba        brnowl              LC\n",
       "3  Barn Swallow    981    hirundo rustica        barswa              LC\n",
       "4    Black Kite    225     milvus migrans       blakit1              LC"
      ]
     },
     "execution_count": 2,
     "metadata": {},
     "output_type": "execute_result"
    }
   ],
   "source": [
    "df1.head()"
   ]
  },
  {
   "cell_type": "code",
   "execution_count": 5,
   "metadata": {},
   "outputs": [
    {
     "data": {
      "text/plain": [
       "0"
      ]
     },
     "execution_count": 5,
     "metadata": {},
     "output_type": "execute_result"
    }
   ],
   "source": [
    "df1['secondary_labels'].nunique()"
   ]
  },
  {
   "cell_type": "code",
   "execution_count": 3,
   "metadata": {},
   "outputs": [],
   "source": [
    "df2 = pd.read_csv('../data/european_birds.csv')"
   ]
  },
  {
   "cell_type": "code",
   "execution_count": null,
   "metadata": {},
   "outputs": [
    {
     "data": {
      "text/html": [
       "<div>\n",
       "<style scoped>\n",
       "    .dataframe tbody tr th:only-of-type {\n",
       "        vertical-align: middle;\n",
       "    }\n",
       "\n",
       "    .dataframe tbody tr th {\n",
       "        vertical-align: top;\n",
       "    }\n",
       "\n",
       "    .dataframe thead th {\n",
       "        text-align: right;\n",
       "    }\n",
       "</style>\n",
       "<table border=\"1\" class=\"dataframe\">\n",
       "  <thead>\n",
       "    <tr style=\"text-align: right;\">\n",
       "      <th></th>\n",
       "      <th>primary_label</th>\n",
       "      <th>secondary_labels</th>\n",
       "      <th>type</th>\n",
       "      <th>latitude</th>\n",
       "      <th>longitude</th>\n",
       "      <th>scientific_name</th>\n",
       "      <th>common_name</th>\n",
       "      <th>date</th>\n",
       "      <th>filename</th>\n",
       "      <th>license</th>\n",
       "      <th>rating</th>\n",
       "      <th>time</th>\n",
       "      <th>geometry</th>\n",
       "    </tr>\n",
       "  </thead>\n",
       "  <tbody>\n",
       "    <tr>\n",
       "      <th>0</th>\n",
       "      <td>amtspa</td>\n",
       "      <td>[]</td>\n",
       "      <td>['call']</td>\n",
       "      <td>55.6237</td>\n",
       "      <td>13.2427</td>\n",
       "      <td>Spizelloides arborea</td>\n",
       "      <td>American Tree Sparrow</td>\n",
       "      <td>2016-11-12</td>\n",
       "      <td>XC342444.ogg</td>\n",
       "      <td>Creative Commons Attribution-NonCommercial-Sha...</td>\n",
       "      <td>2.0</td>\n",
       "      <td>14:00</td>\n",
       "      <td>POINT (13.2427 55.6237)</td>\n",
       "    </tr>\n",
       "    <tr>\n",
       "      <th>1</th>\n",
       "      <td>amtspa</td>\n",
       "      <td>[]</td>\n",
       "      <td>['call']</td>\n",
       "      <td>55.6237</td>\n",
       "      <td>13.2427</td>\n",
       "      <td>Spizelloides arborea</td>\n",
       "      <td>American Tree Sparrow</td>\n",
       "      <td>2016-11-16</td>\n",
       "      <td>XC342952.ogg</td>\n",
       "      <td>Creative Commons Attribution-NonCommercial-Sha...</td>\n",
       "      <td>3.0</td>\n",
       "      <td>08:31</td>\n",
       "      <td>POINT (13.2427 55.6237)</td>\n",
       "    </tr>\n",
       "    <tr>\n",
       "      <th>2</th>\n",
       "      <td>amtspa</td>\n",
       "      <td>[]</td>\n",
       "      <td>['call']</td>\n",
       "      <td>55.6237</td>\n",
       "      <td>13.2427</td>\n",
       "      <td>Spizelloides arborea</td>\n",
       "      <td>American Tree Sparrow</td>\n",
       "      <td>2016-11-16</td>\n",
       "      <td>XC342954.ogg</td>\n",
       "      <td>Creative Commons Attribution-NonCommercial-Sha...</td>\n",
       "      <td>4.0</td>\n",
       "      <td>10:28</td>\n",
       "      <td>POINT (13.2427 55.6237)</td>\n",
       "    </tr>\n",
       "    <tr>\n",
       "      <th>3</th>\n",
       "      <td>banswa</td>\n",
       "      <td>[]</td>\n",
       "      <td>['call']</td>\n",
       "      <td>54.5592</td>\n",
       "      <td>11.9695</td>\n",
       "      <td>Riparia riparia</td>\n",
       "      <td>Bank Swallow</td>\n",
       "      <td>2013-06-08</td>\n",
       "      <td>XC138517.ogg</td>\n",
       "      <td>Creative Commons Attribution-NonCommercial-Sha...</td>\n",
       "      <td>4.0</td>\n",
       "      <td>05:18</td>\n",
       "      <td>POINT (11.9695 54.5592)</td>\n",
       "    </tr>\n",
       "    <tr>\n",
       "      <th>4</th>\n",
       "      <td>banswa</td>\n",
       "      <td>[]</td>\n",
       "      <td>['alarm call', 'call']</td>\n",
       "      <td>46.1374</td>\n",
       "      <td>5.9609</td>\n",
       "      <td>Riparia riparia</td>\n",
       "      <td>Bank Swallow</td>\n",
       "      <td>2013-07-13</td>\n",
       "      <td>XC142649.ogg</td>\n",
       "      <td>Creative Commons Attribution-NonCommercial-Sha...</td>\n",
       "      <td>3.5</td>\n",
       "      <td>09:00</td>\n",
       "      <td>POINT (5.9609 46.1374)</td>\n",
       "    </tr>\n",
       "  </tbody>\n",
       "</table>\n",
       "</div>"
      ],
      "text/plain": [
       "  primary_label secondary_labels                    type  latitude  longitude   \n",
       "0        amtspa               []                ['call']   55.6237    13.2427  \\\n",
       "1        amtspa               []                ['call']   55.6237    13.2427   \n",
       "2        amtspa               []                ['call']   55.6237    13.2427   \n",
       "3        banswa               []                ['call']   54.5592    11.9695   \n",
       "4        banswa               []  ['alarm call', 'call']   46.1374     5.9609   \n",
       "\n",
       "        scientific_name            common_name        date      filename   \n",
       "0  Spizelloides arborea  American Tree Sparrow  2016-11-12  XC342444.ogg  \\\n",
       "1  Spizelloides arborea  American Tree Sparrow  2016-11-16  XC342952.ogg   \n",
       "2  Spizelloides arborea  American Tree Sparrow  2016-11-16  XC342954.ogg   \n",
       "3       Riparia riparia           Bank Swallow  2013-06-08  XC138517.ogg   \n",
       "4       Riparia riparia           Bank Swallow  2013-07-13  XC142649.ogg   \n",
       "\n",
       "                                             license  rating   time   \n",
       "0  Creative Commons Attribution-NonCommercial-Sha...     2.0  14:00  \\\n",
       "1  Creative Commons Attribution-NonCommercial-Sha...     3.0  08:31   \n",
       "2  Creative Commons Attribution-NonCommercial-Sha...     4.0  10:28   \n",
       "3  Creative Commons Attribution-NonCommercial-Sha...     4.0  05:18   \n",
       "4  Creative Commons Attribution-NonCommercial-Sha...     3.5  09:00   \n",
       "\n",
       "                  geometry  \n",
       "0  POINT (13.2427 55.6237)  \n",
       "1  POINT (13.2427 55.6237)  \n",
       "2  POINT (13.2427 55.6237)  \n",
       "3  POINT (11.9695 54.5592)  \n",
       "4   POINT (5.9609 46.1374)  "
      ]
     },
     "execution_count": 3,
     "metadata": {},
     "output_type": "execute_result"
    }
   ],
   "source": [
    "df2.head()"
   ]
  },
  {
   "cell_type": "code",
   "execution_count": null,
   "metadata": {},
   "outputs": [
    {
     "data": {
      "text/html": [
       "<div>\n",
       "<style scoped>\n",
       "    .dataframe tbody tr th:only-of-type {\n",
       "        vertical-align: middle;\n",
       "    }\n",
       "\n",
       "    .dataframe tbody tr th {\n",
       "        vertical-align: top;\n",
       "    }\n",
       "\n",
       "    .dataframe thead th {\n",
       "        text-align: right;\n",
       "    }\n",
       "</style>\n",
       "<table border=\"1\" class=\"dataframe\">\n",
       "  <thead>\n",
       "    <tr style=\"text-align: right;\">\n",
       "      <th></th>\n",
       "      <th>primary_label</th>\n",
       "      <th>scientific_name</th>\n",
       "      <th>common_name</th>\n",
       "      <th>date</th>\n",
       "      <th>filename</th>\n",
       "    </tr>\n",
       "  </thead>\n",
       "  <tbody>\n",
       "    <tr>\n",
       "      <th>0</th>\n",
       "      <td>amtspa</td>\n",
       "      <td>Spizelloides arborea</td>\n",
       "      <td>American Tree Sparrow</td>\n",
       "      <td>2016-11-12</td>\n",
       "      <td>XC342444.ogg</td>\n",
       "    </tr>\n",
       "    <tr>\n",
       "      <th>1</th>\n",
       "      <td>amtspa</td>\n",
       "      <td>Spizelloides arborea</td>\n",
       "      <td>American Tree Sparrow</td>\n",
       "      <td>2016-11-16</td>\n",
       "      <td>XC342952.ogg</td>\n",
       "    </tr>\n",
       "    <tr>\n",
       "      <th>2</th>\n",
       "      <td>amtspa</td>\n",
       "      <td>Spizelloides arborea</td>\n",
       "      <td>American Tree Sparrow</td>\n",
       "      <td>2016-11-16</td>\n",
       "      <td>XC342954.ogg</td>\n",
       "    </tr>\n",
       "    <tr>\n",
       "      <th>3</th>\n",
       "      <td>banswa</td>\n",
       "      <td>Riparia riparia</td>\n",
       "      <td>Bank Swallow</td>\n",
       "      <td>2013-06-08</td>\n",
       "      <td>XC138517.ogg</td>\n",
       "    </tr>\n",
       "    <tr>\n",
       "      <th>4</th>\n",
       "      <td>banswa</td>\n",
       "      <td>Riparia riparia</td>\n",
       "      <td>Bank Swallow</td>\n",
       "      <td>2013-07-13</td>\n",
       "      <td>XC142649.ogg</td>\n",
       "    </tr>\n",
       "  </tbody>\n",
       "</table>\n",
       "</div>"
      ],
      "text/plain": [
       "  primary_label       scientific_name            common_name        date   \n",
       "0        amtspa  Spizelloides arborea  American Tree Sparrow  2016-11-12  \\\n",
       "1        amtspa  Spizelloides arborea  American Tree Sparrow  2016-11-16   \n",
       "2        amtspa  Spizelloides arborea  American Tree Sparrow  2016-11-16   \n",
       "3        banswa       Riparia riparia           Bank Swallow  2013-06-08   \n",
       "4        banswa       Riparia riparia           Bank Swallow  2013-07-13   \n",
       "\n",
       "       filename  \n",
       "0  XC342444.ogg  \n",
       "1  XC342952.ogg  \n",
       "2  XC342954.ogg  \n",
       "3  XC138517.ogg  \n",
       "4  XC142649.ogg  "
      ]
     },
     "execution_count": 4,
     "metadata": {},
     "output_type": "execute_result"
    }
   ],
   "source": [
    "df2.drop(columns=['secondary_labels', 'type', 'latitude', 'longitude', 'license', 'rating', 'time', 'geometry'], inplace=True)\n",
    "df2.head()"
   ]
  },
  {
   "cell_type": "code",
   "execution_count": null,
   "metadata": {},
   "outputs": [],
   "source": [
    "df2.to_csv('grouping_list.csv', index=False)"
   ]
  },
  {
   "cell_type": "code",
   "execution_count": null,
   "metadata": {},
   "outputs": [
    {
     "data": {
      "text/plain": [
       "24055"
      ]
     },
     "execution_count": 9,
     "metadata": {},
     "output_type": "execute_result"
    }
   ],
   "source": [
    "df2['filename'].nunique()"
   ]
  },
  {
   "cell_type": "code",
   "execution_count": 4,
   "metadata": {},
   "outputs": [
    {
     "data": {
      "text/html": [
       "<div>\n",
       "<style scoped>\n",
       "    .dataframe tbody tr th:only-of-type {\n",
       "        vertical-align: middle;\n",
       "    }\n",
       "\n",
       "    .dataframe tbody tr th {\n",
       "        vertical-align: top;\n",
       "    }\n",
       "\n",
       "    .dataframe thead th {\n",
       "        text-align: right;\n",
       "    }\n",
       "</style>\n",
       "<table border=\"1\" class=\"dataframe\">\n",
       "  <thead>\n",
       "    <tr style=\"text-align: right;\">\n",
       "      <th></th>\n",
       "      <th>primary_label</th>\n",
       "      <th>secondary_labels</th>\n",
       "      <th>type</th>\n",
       "      <th>latitude</th>\n",
       "      <th>longitude</th>\n",
       "      <th>scientific_name</th>\n",
       "      <th>common_name</th>\n",
       "      <th>date</th>\n",
       "      <th>filename</th>\n",
       "      <th>license</th>\n",
       "      <th>rating</th>\n",
       "      <th>time</th>\n",
       "      <th>geometry</th>\n",
       "      <th>Red List Status</th>\n",
       "    </tr>\n",
       "  </thead>\n",
       "  <tbody>\n",
       "    <tr>\n",
       "      <th>0</th>\n",
       "      <td>amtspa</td>\n",
       "      <td>[]</td>\n",
       "      <td>['call']</td>\n",
       "      <td>55.6237</td>\n",
       "      <td>13.2427</td>\n",
       "      <td>Spizelloides arborea</td>\n",
       "      <td>American Tree Sparrow</td>\n",
       "      <td>2016-11-12</td>\n",
       "      <td>XC342444.ogg</td>\n",
       "      <td>Creative Commons Attribution-NonCommercial-Sha...</td>\n",
       "      <td>2.0</td>\n",
       "      <td>14:00</td>\n",
       "      <td>POINT (13.2427 55.6237)</td>\n",
       "      <td>NaN</td>\n",
       "    </tr>\n",
       "    <tr>\n",
       "      <th>1</th>\n",
       "      <td>amtspa</td>\n",
       "      <td>[]</td>\n",
       "      <td>['call']</td>\n",
       "      <td>55.6237</td>\n",
       "      <td>13.2427</td>\n",
       "      <td>Spizelloides arborea</td>\n",
       "      <td>American Tree Sparrow</td>\n",
       "      <td>2016-11-16</td>\n",
       "      <td>XC342952.ogg</td>\n",
       "      <td>Creative Commons Attribution-NonCommercial-Sha...</td>\n",
       "      <td>3.0</td>\n",
       "      <td>08:31</td>\n",
       "      <td>POINT (13.2427 55.6237)</td>\n",
       "      <td>NaN</td>\n",
       "    </tr>\n",
       "    <tr>\n",
       "      <th>2</th>\n",
       "      <td>amtspa</td>\n",
       "      <td>[]</td>\n",
       "      <td>['call']</td>\n",
       "      <td>55.6237</td>\n",
       "      <td>13.2427</td>\n",
       "      <td>Spizelloides arborea</td>\n",
       "      <td>American Tree Sparrow</td>\n",
       "      <td>2016-11-16</td>\n",
       "      <td>XC342954.ogg</td>\n",
       "      <td>Creative Commons Attribution-NonCommercial-Sha...</td>\n",
       "      <td>4.0</td>\n",
       "      <td>10:28</td>\n",
       "      <td>POINT (13.2427 55.6237)</td>\n",
       "      <td>NaN</td>\n",
       "    </tr>\n",
       "    <tr>\n",
       "      <th>3</th>\n",
       "      <td>banswa</td>\n",
       "      <td>[]</td>\n",
       "      <td>['call']</td>\n",
       "      <td>54.5592</td>\n",
       "      <td>11.9695</td>\n",
       "      <td>Riparia riparia</td>\n",
       "      <td>Bank Swallow</td>\n",
       "      <td>2013-06-08</td>\n",
       "      <td>XC138517.ogg</td>\n",
       "      <td>Creative Commons Attribution-NonCommercial-Sha...</td>\n",
       "      <td>4.0</td>\n",
       "      <td>05:18</td>\n",
       "      <td>POINT (11.9695 54.5592)</td>\n",
       "      <td>LC</td>\n",
       "    </tr>\n",
       "    <tr>\n",
       "      <th>4</th>\n",
       "      <td>banswa</td>\n",
       "      <td>[]</td>\n",
       "      <td>['alarm call', 'call']</td>\n",
       "      <td>46.1374</td>\n",
       "      <td>5.9609</td>\n",
       "      <td>Riparia riparia</td>\n",
       "      <td>Bank Swallow</td>\n",
       "      <td>2013-07-13</td>\n",
       "      <td>XC142649.ogg</td>\n",
       "      <td>Creative Commons Attribution-NonCommercial-Sha...</td>\n",
       "      <td>3.5</td>\n",
       "      <td>09:00</td>\n",
       "      <td>POINT (5.9609 46.1374)</td>\n",
       "      <td>LC</td>\n",
       "    </tr>\n",
       "  </tbody>\n",
       "</table>\n",
       "</div>"
      ],
      "text/plain": [
       "  primary_label secondary_labels                    type  latitude  longitude   \n",
       "0        amtspa               []                ['call']   55.6237    13.2427  \\\n",
       "1        amtspa               []                ['call']   55.6237    13.2427   \n",
       "2        amtspa               []                ['call']   55.6237    13.2427   \n",
       "3        banswa               []                ['call']   54.5592    11.9695   \n",
       "4        banswa               []  ['alarm call', 'call']   46.1374     5.9609   \n",
       "\n",
       "        scientific_name            common_name        date      filename   \n",
       "0  Spizelloides arborea  American Tree Sparrow  2016-11-12  XC342444.ogg  \\\n",
       "1  Spizelloides arborea  American Tree Sparrow  2016-11-16  XC342952.ogg   \n",
       "2  Spizelloides arborea  American Tree Sparrow  2016-11-16  XC342954.ogg   \n",
       "3       Riparia riparia           Bank Swallow  2013-06-08  XC138517.ogg   \n",
       "4       Riparia riparia           Bank Swallow  2013-07-13  XC142649.ogg   \n",
       "\n",
       "                                             license  rating   time   \n",
       "0  Creative Commons Attribution-NonCommercial-Sha...     2.0  14:00  \\\n",
       "1  Creative Commons Attribution-NonCommercial-Sha...     3.0  08:31   \n",
       "2  Creative Commons Attribution-NonCommercial-Sha...     4.0  10:28   \n",
       "3  Creative Commons Attribution-NonCommercial-Sha...     4.0  05:18   \n",
       "4  Creative Commons Attribution-NonCommercial-Sha...     3.5  09:00   \n",
       "\n",
       "                  geometry Red List Status  \n",
       "0  POINT (13.2427 55.6237)             NaN  \n",
       "1  POINT (13.2427 55.6237)             NaN  \n",
       "2  POINT (13.2427 55.6237)             NaN  \n",
       "3  POINT (11.9695 54.5592)              LC  \n",
       "4   POINT (5.9609 46.1374)              LC  "
      ]
     },
     "execution_count": 4,
     "metadata": {},
     "output_type": "execute_result"
    }
   ],
   "source": [
    "# Create a mapping from primary_label to Red List Status\n",
    "red_list_status_mapping = df1.set_index('primary_label')['Red List Status'].to_dict()\n",
    "\n",
    "# Add the Red List Status to df2 based on the primary_label\n",
    "df2['Red List Status'] = df2['primary_label'].map(red_list_status_mapping)\n",
    "\n",
    "# Display the updated dataframe\n",
    "df2.head()"
   ]
  },
  {
   "cell_type": "code",
   "execution_count": 6,
   "metadata": {},
   "outputs": [
    {
     "data": {
      "text/plain": [
       "array([nan, 'LC', 'VU', 'EN'], dtype=object)"
      ]
     },
     "execution_count": 6,
     "metadata": {},
     "output_type": "execute_result"
    }
   ],
   "source": [
    "df2['Red List Status'].unique()"
   ]
  },
  {
   "cell_type": "code",
   "execution_count": 7,
   "metadata": {},
   "outputs": [
    {
     "name": "stdout",
     "output_type": "stream",
     "text": [
      "1419\n"
     ]
    }
   ],
   "source": [
    "nan_count = df2['Red List Status'].isna().sum()\n",
    "print(nan_count)"
   ]
  },
  {
   "cell_type": "code",
   "execution_count": 8,
   "metadata": {},
   "outputs": [
    {
     "name": "stdout",
     "output_type": "stream",
     "text": [
      "<class 'pandas.core.frame.DataFrame'>\n",
      "RangeIndex: 26922 entries, 0 to 26921\n",
      "Data columns (total 14 columns):\n",
      " #   Column            Non-Null Count  Dtype  \n",
      "---  ------            --------------  -----  \n",
      " 0   primary_label     26922 non-null  object \n",
      " 1   secondary_labels  26922 non-null  object \n",
      " 2   type              26922 non-null  object \n",
      " 3   latitude          26922 non-null  float64\n",
      " 4   longitude         26922 non-null  float64\n",
      " 5   scientific_name   26922 non-null  object \n",
      " 6   common_name       26922 non-null  object \n",
      " 7   date              4829 non-null   object \n",
      " 8   filename          26922 non-null  object \n",
      " 9   license           26922 non-null  object \n",
      " 10  rating            26922 non-null  float64\n",
      " 11  time              10784 non-null  object \n",
      " 12  geometry          26922 non-null  object \n",
      " 13  Red List Status   25503 non-null  object \n",
      "dtypes: float64(3), object(11)\n",
      "memory usage: 2.9+ MB\n"
     ]
    }
   ],
   "source": [
    "df2.info()"
   ]
  },
  {
   "cell_type": "code",
   "execution_count": 9,
   "metadata": {},
   "outputs": [],
   "source": [
    "df2.to_csv('basemodel_list.csv', index=False)"
   ]
  },
  {
   "cell_type": "code",
   "execution_count": null,
   "metadata": {},
   "outputs": [],
   "source": []
  }
 ],
 "metadata": {
  "kernelspec": {
   "display_name": ".venv",
   "language": "python",
   "name": "python3"
  },
  "language_info": {
   "codemirror_mode": {
    "name": "ipython",
    "version": 3
   },
   "file_extension": ".py",
   "mimetype": "text/x-python",
   "name": "python",
   "nbconvert_exporter": "python",
   "pygments_lexer": "ipython3",
   "version": "3.11.3"
  }
 },
 "nbformat": 4,
 "nbformat_minor": 2
}
