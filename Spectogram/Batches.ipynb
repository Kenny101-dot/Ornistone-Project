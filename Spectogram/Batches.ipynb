{
 "cells": [
  {
   "cell_type": "markdown",
   "metadata": {},
   "source": [
    "## The folders are not on this hard drive, you have to check the drive\n"
   ]
  },
  {
   "cell_type": "code",
   "execution_count": null,
   "metadata": {},
   "outputs": [],
   "source": [
    "import pandas as pd\n",
    "import numpy as np\n",
    "import librosa\n",
    "import os\n",
    "\n",
    "# Path to the folder containing the PNGs\n",
    "folder_path = 'path_to_your_folder'\n",
    "\n",
    "# List all PNG files in the folder\n",
    "png_files = [f for f in os.listdir(folder_path) if f.endswith('.png')]\n",
    "\n",
    "# Define the batch size, look for the size of pngs first\n",
    "batch_size = 100\n",
    "\n",
    "# Create batches\n",
    "batches = [png_files[i:i + batch_size] for i in range(0, len(png_files), batch_size)]\n",
    "\n",
    "# Print the number of batches and the first batch as an example\n",
    "print(f'Total number of batches: {len(batches)}')\n",
    "print(f'First batch: {batches[0]}')"
   ]
  },
  {
   "cell_type": "code",
   "execution_count": null,
   "metadata": {
    "vscode": {
     "languageId": "markdown"
    }
   },
   "outputs": [],
   "source": [
    "import os\n",
    "\n",
    "# List of folder paths\n",
    "folder_paths = ['path_to_folder1', 'path_to_folder2', 'path_to_folder3', 'path_to_folder4']\n",
    "\n",
    "# Define the batch size\n",
    "batch_size = 100\n",
    "\n",
    "# Dictionary to store batches for each folder\n",
    "all_batches = {}\n",
    "\n",
    "for folder_path in folder_paths:\n",
    "    # List all PNG files in the folder\n",
    "    png_files = [f for f in os.listdir(folder_path) if f.endswith('.png')]\n",
    "    \n",
    "    # Create batches\n",
    "    batches = [png_files[i:i + batch_size] for i in range(0, len(png_files), batch_size)]\n",
    "    \n",
    "    # Store the batches in the dictionary\n",
    "    all_batches[folder_path] = batches\n",
    "\n",
    "# Print the number of batches for each folder and the first batch as an example\n",
    "for folder_path, batches in all_batches.items():\n",
    "    print(f'Folder: {folder_path}')\n",
    "    print(f'Total number of batches: {len(batches)}')\n",
    "    print(f'First batch: {batches[0]}')"
   ]
  },
  {
   "cell_type": "code",
   "execution_count": null,
   "metadata": {
    "vscode": {
     "languageId": "markdown"
    }
   },
   "outputs": [],
   "source": []
  }
 ],
 "metadata": {
  "kernelspec": {
   "display_name": "librosa_env",
   "language": "python",
   "name": "python3"
  },
  "language_info": {
   "codemirror_mode": {
    "name": "ipython",
    "version": 3
   },
   "file_extension": ".py",
   "mimetype": "text/x-python",
   "name": "python",
   "nbconvert_exporter": "python",
   "pygments_lexer": "ipython3",
   "version": "3.11.3"
  }
 },
 "nbformat": 4,
 "nbformat_minor": 2
}
