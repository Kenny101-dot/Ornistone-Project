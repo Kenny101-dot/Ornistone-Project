{
 "cells": [
  {
   "cell_type": "code",
   "execution_count": 2,
   "metadata": {},
   "outputs": [],
   "source": [
    "import pandas as pd\n",
    "import numpy as np"
   ]
  },
  {
   "cell_type": "code",
   "execution_count": 12,
   "metadata": {},
   "outputs": [],
   "source": [
    "df = pd.read_csv('data/points_data.csv')\n"
   ]
  },
  {
   "cell_type": "code",
   "execution_count": 13,
   "metadata": {},
   "outputs": [
    {
     "data": {
      "text/html": [
       "<div>\n",
       "<style scoped>\n",
       "    .dataframe tbody tr th:only-of-type {\n",
       "        vertical-align: middle;\n",
       "    }\n",
       "\n",
       "    .dataframe tbody tr th {\n",
       "        vertical-align: top;\n",
       "    }\n",
       "\n",
       "    .dataframe thead th {\n",
       "        text-align: right;\n",
       "    }\n",
       "</style>\n",
       "<table border=\"1\" class=\"dataframe\">\n",
       "  <thead>\n",
       "    <tr style=\"text-align: right;\">\n",
       "      <th></th>\n",
       "      <th>assessment_id</th>\n",
       "      <th>id_no</th>\n",
       "      <th>sci_name</th>\n",
       "      <th>presence</th>\n",
       "      <th>origin</th>\n",
       "      <th>seasonal</th>\n",
       "      <th>compiler</th>\n",
       "      <th>yrcompiled</th>\n",
       "      <th>citation</th>\n",
       "      <th>legend</th>\n",
       "      <th>subspecies</th>\n",
       "      <th>subpop</th>\n",
       "      <th>dist_comm</th>\n",
       "      <th>island</th>\n",
       "      <th>tax_comm</th>\n",
       "      <th>source</th>\n",
       "      <th>basisofrec</th>\n",
       "      <th>event_year</th>\n",
       "      <th>longitude</th>\n",
       "      <th>latitude</th>\n",
       "    </tr>\n",
       "  </thead>\n",
       "  <tbody>\n",
       "    <tr>\n",
       "      <th>0</th>\n",
       "      <td>158506718</td>\n",
       "      <td>130525346</td>\n",
       "      <td>Senna occidentalis</td>\n",
       "      <td>1</td>\n",
       "      <td>1</td>\n",
       "      <td>1</td>\n",
       "      <td>Cátia Canteiro</td>\n",
       "      <td>2020</td>\n",
       "      <td>RBG Kew</td>\n",
       "      <td>Extant (resident)</td>\n",
       "      <td>NaN</td>\n",
       "      <td>NaN</td>\n",
       "      <td>NaN</td>\n",
       "      <td>NaN</td>\n",
       "      <td>NaN</td>\n",
       "      <td>NaN</td>\n",
       "      <td>NaN</td>\n",
       "      <td>0</td>\n",
       "      <td>-107.694444</td>\n",
       "      <td>24.437222</td>\n",
       "    </tr>\n",
       "    <tr>\n",
       "      <th>1</th>\n",
       "      <td>158506718</td>\n",
       "      <td>130525346</td>\n",
       "      <td>Senna occidentalis</td>\n",
       "      <td>1</td>\n",
       "      <td>1</td>\n",
       "      <td>1</td>\n",
       "      <td>Cátia Canteiro</td>\n",
       "      <td>2020</td>\n",
       "      <td>RBG Kew</td>\n",
       "      <td>Extant (resident)</td>\n",
       "      <td>NaN</td>\n",
       "      <td>NaN</td>\n",
       "      <td>NaN</td>\n",
       "      <td>NaN</td>\n",
       "      <td>NaN</td>\n",
       "      <td>NaN</td>\n",
       "      <td>NaN</td>\n",
       "      <td>0</td>\n",
       "      <td>-105.529999</td>\n",
       "      <td>20.219999</td>\n",
       "    </tr>\n",
       "    <tr>\n",
       "      <th>2</th>\n",
       "      <td>158506718</td>\n",
       "      <td>130525346</td>\n",
       "      <td>Senna occidentalis</td>\n",
       "      <td>1</td>\n",
       "      <td>1</td>\n",
       "      <td>1</td>\n",
       "      <td>Cátia Canteiro</td>\n",
       "      <td>2020</td>\n",
       "      <td>RBG Kew</td>\n",
       "      <td>Extant (resident)</td>\n",
       "      <td>NaN</td>\n",
       "      <td>NaN</td>\n",
       "      <td>NaN</td>\n",
       "      <td>NaN</td>\n",
       "      <td>NaN</td>\n",
       "      <td>NaN</td>\n",
       "      <td>NaN</td>\n",
       "      <td>0</td>\n",
       "      <td>-105.500000</td>\n",
       "      <td>20.049999</td>\n",
       "    </tr>\n",
       "    <tr>\n",
       "      <th>3</th>\n",
       "      <td>158506718</td>\n",
       "      <td>130525346</td>\n",
       "      <td>Senna occidentalis</td>\n",
       "      <td>1</td>\n",
       "      <td>1</td>\n",
       "      <td>1</td>\n",
       "      <td>Cátia Canteiro</td>\n",
       "      <td>2020</td>\n",
       "      <td>RBG Kew</td>\n",
       "      <td>Extant (resident)</td>\n",
       "      <td>NaN</td>\n",
       "      <td>NaN</td>\n",
       "      <td>NaN</td>\n",
       "      <td>NaN</td>\n",
       "      <td>NaN</td>\n",
       "      <td>NaN</td>\n",
       "      <td>NaN</td>\n",
       "      <td>0</td>\n",
       "      <td>-104.986110</td>\n",
       "      <td>19.375000</td>\n",
       "    </tr>\n",
       "    <tr>\n",
       "      <th>4</th>\n",
       "      <td>158506718</td>\n",
       "      <td>130525346</td>\n",
       "      <td>Senna occidentalis</td>\n",
       "      <td>1</td>\n",
       "      <td>1</td>\n",
       "      <td>1</td>\n",
       "      <td>Cátia Canteiro</td>\n",
       "      <td>2020</td>\n",
       "      <td>RBG Kew</td>\n",
       "      <td>Extant (resident)</td>\n",
       "      <td>NaN</td>\n",
       "      <td>NaN</td>\n",
       "      <td>NaN</td>\n",
       "      <td>NaN</td>\n",
       "      <td>NaN</td>\n",
       "      <td>NaN</td>\n",
       "      <td>NaN</td>\n",
       "      <td>0</td>\n",
       "      <td>-99.225000</td>\n",
       "      <td>23.075000</td>\n",
       "    </tr>\n",
       "  </tbody>\n",
       "</table>\n",
       "</div>"
      ],
      "text/plain": [
       "   assessment_id      id_no            sci_name  presence  origin  seasonal   \n",
       "0      158506718  130525346  Senna occidentalis         1       1         1  \\\n",
       "1      158506718  130525346  Senna occidentalis         1       1         1   \n",
       "2      158506718  130525346  Senna occidentalis         1       1         1   \n",
       "3      158506718  130525346  Senna occidentalis         1       1         1   \n",
       "4      158506718  130525346  Senna occidentalis         1       1         1   \n",
       "\n",
       "         compiler  yrcompiled citation             legend  subspecies  subpop   \n",
       "0  Cátia Canteiro        2020  RBG Kew  Extant (resident)         NaN     NaN  \\\n",
       "1  Cátia Canteiro        2020  RBG Kew  Extant (resident)         NaN     NaN   \n",
       "2  Cátia Canteiro        2020  RBG Kew  Extant (resident)         NaN     NaN   \n",
       "3  Cátia Canteiro        2020  RBG Kew  Extant (resident)         NaN     NaN   \n",
       "4  Cátia Canteiro        2020  RBG Kew  Extant (resident)         NaN     NaN   \n",
       "\n",
       "   dist_comm  island  tax_comm  source  basisofrec  event_year   longitude   \n",
       "0        NaN     NaN       NaN     NaN         NaN           0 -107.694444  \\\n",
       "1        NaN     NaN       NaN     NaN         NaN           0 -105.529999   \n",
       "2        NaN     NaN       NaN     NaN         NaN           0 -105.500000   \n",
       "3        NaN     NaN       NaN     NaN         NaN           0 -104.986110   \n",
       "4        NaN     NaN       NaN     NaN         NaN           0  -99.225000   \n",
       "\n",
       "    latitude  \n",
       "0  24.437222  \n",
       "1  20.219999  \n",
       "2  20.049999  \n",
       "3  19.375000  \n",
       "4  23.075000  "
      ]
     },
     "execution_count": 13,
     "metadata": {},
     "output_type": "execute_result"
    }
   ],
   "source": [
    "df.head()"
   ]
  },
  {
   "cell_type": "code",
   "execution_count": 17,
   "metadata": {},
   "outputs": [
    {
     "name": "stdout",
     "output_type": "stream",
     "text": [
      "<class 'pandas.core.frame.DataFrame'>\n",
      "RangeIndex: 7207 entries, 0 to 7206\n",
      "Data columns (total 20 columns):\n",
      " #   Column         Non-Null Count  Dtype  \n",
      "---  ------         --------------  -----  \n",
      " 0   assessment_id  7207 non-null   int64  \n",
      " 1   id_no          7207 non-null   int64  \n",
      " 2   sci_name       7207 non-null   object \n",
      " 3   presence       7207 non-null   int64  \n",
      " 4   origin         7207 non-null   int64  \n",
      " 5   seasonal       7207 non-null   int64  \n",
      " 6   compiler       7207 non-null   object \n",
      " 7   yrcompiled     7207 non-null   int64  \n",
      " 8   citation       7207 non-null   object \n",
      " 9   legend         7207 non-null   object \n",
      " 10  subspecies     0 non-null      float64\n",
      " 11  subpop         0 non-null      float64\n",
      " 12  dist_comm      0 non-null      float64\n",
      " 13  island         0 non-null      float64\n",
      " 14  tax_comm       0 non-null      float64\n",
      " 15  source         0 non-null      float64\n",
      " 16  basisofrec     0 non-null      float64\n",
      " 17  event_year     7207 non-null   int64  \n",
      " 18  longitude      7207 non-null   float64\n",
      " 19  latitude       7207 non-null   float64\n",
      "dtypes: float64(9), int64(7), object(4)\n",
      "memory usage: 1.1+ MB\n"
     ]
    }
   ],
   "source": [
    "df.info()"
   ]
  },
  {
   "cell_type": "code",
   "execution_count": 18,
   "metadata": {},
   "outputs": [
    {
     "data": {
      "text/plain": [
       "array(['Extant (resident)', 'Extant & Introduced (resident)',\n",
       "       'Extant & Origin Uncertain (resident)'], dtype=object)"
      ]
     },
     "execution_count": 18,
     "metadata": {},
     "output_type": "execute_result"
    }
   ],
   "source": [
    "df[\"legend\"].unique()\n"
   ]
  },
  {
   "cell_type": "code",
   "execution_count": 5,
   "metadata": {},
   "outputs": [],
   "source": [
    "dataframe = pd.read_csv('data/updated_bird_list.csv')"
   ]
  },
  {
   "cell_type": "code",
   "execution_count": 6,
   "metadata": {},
   "outputs": [
    {
     "data": {
      "text/html": [
       "<div>\n",
       "<style scoped>\n",
       "    .dataframe tbody tr th:only-of-type {\n",
       "        vertical-align: middle;\n",
       "    }\n",
       "\n",
       "    .dataframe tbody tr th {\n",
       "        vertical-align: top;\n",
       "    }\n",
       "\n",
       "    .dataframe thead th {\n",
       "        text-align: right;\n",
       "    }\n",
       "</style>\n",
       "<table border=\"1\" class=\"dataframe\">\n",
       "  <thead>\n",
       "    <tr style=\"text-align: right;\">\n",
       "      <th></th>\n",
       "      <th>common_name</th>\n",
       "      <th>count</th>\n",
       "      <th>scientific_name</th>\n",
       "      <th>primary_label</th>\n",
       "      <th>IUCN Red List category (Europe)</th>\n",
       "      <th>IUCN Red List category (EU27+UK)</th>\n",
       "    </tr>\n",
       "  </thead>\n",
       "  <tbody>\n",
       "    <tr>\n",
       "      <th>0</th>\n",
       "      <td>African Sacred Ibis</td>\n",
       "      <td>2</td>\n",
       "      <td>threskiornis aethiopicus</td>\n",
       "      <td>sacibi2</td>\n",
       "      <td>NaN</td>\n",
       "      <td>NaN</td>\n",
       "    </tr>\n",
       "    <tr>\n",
       "      <th>1</th>\n",
       "      <td>American Tree Sparrow</td>\n",
       "      <td>3</td>\n",
       "      <td>spizelloides arborea</td>\n",
       "      <td>amtspa</td>\n",
       "      <td>NaN</td>\n",
       "      <td>NaN</td>\n",
       "    </tr>\n",
       "    <tr>\n",
       "      <th>2</th>\n",
       "      <td>American Wigeon</td>\n",
       "      <td>1</td>\n",
       "      <td>mareca americana</td>\n",
       "      <td>amewig</td>\n",
       "      <td>NaN</td>\n",
       "      <td>NaN</td>\n",
       "    </tr>\n",
       "    <tr>\n",
       "      <th>3</th>\n",
       "      <td>Arctic Tern</td>\n",
       "      <td>162</td>\n",
       "      <td>sterna paradisaea</td>\n",
       "      <td>arcter</td>\n",
       "      <td>LC</td>\n",
       "      <td>LC</td>\n",
       "    </tr>\n",
       "    <tr>\n",
       "      <th>4</th>\n",
       "      <td>Bank Swallow</td>\n",
       "      <td>86</td>\n",
       "      <td>riparia riparia</td>\n",
       "      <td>banswa</td>\n",
       "      <td>LC</td>\n",
       "      <td>LC</td>\n",
       "    </tr>\n",
       "  </tbody>\n",
       "</table>\n",
       "</div>"
      ],
      "text/plain": [
       "             common_name  count           scientific_name primary_label   \n",
       "0    African Sacred Ibis      2  threskiornis aethiopicus       sacibi2  \\\n",
       "1  American Tree Sparrow      3      spizelloides arborea        amtspa   \n",
       "2        American Wigeon      1          mareca americana        amewig   \n",
       "3            Arctic Tern    162         sterna paradisaea        arcter   \n",
       "4           Bank Swallow     86           riparia riparia        banswa   \n",
       "\n",
       "  IUCN Red List category (Europe) IUCN Red List category (EU27+UK)  \n",
       "0                             NaN                              NaN  \n",
       "1                             NaN                              NaN  \n",
       "2                             NaN                              NaN  \n",
       "3                              LC                               LC  \n",
       "4                              LC                               LC  "
      ]
     },
     "execution_count": 6,
     "metadata": {},
     "output_type": "execute_result"
    }
   ],
   "source": [
    "dataframe.head()    "
   ]
  },
  {
   "cell_type": "code",
   "execution_count": 4,
   "metadata": {},
   "outputs": [],
   "source": [
    "df3 =pd.read_csv('../data/finally_bird_list.csv')"
   ]
  },
  {
   "cell_type": "code",
   "execution_count": null,
   "metadata": {},
   "outputs": [],
   "source": []
  },
  {
   "cell_type": "markdown",
   "metadata": {},
   "source": [
    "## Explanation on why we need synthetic data"
   ]
  },
  {
   "cell_type": "code",
   "execution_count": 9,
   "metadata": {},
   "outputs": [
    {
     "data": {
      "image/png": "[encoded data removed]",
      "text/plain": [
       "<Figure size 640x480 with 1 Axes>"
      ]
     },
     "metadata": {},
     "output_type": "display_data"
    },
    {
     "name": "stdout",
     "output_type": "stream",
     "text": [
      "Red List Status\n",
      "LC    66\n",
      "VU    11\n",
      "EN     4\n",
      "Name: count, dtype: int64\n"
     ]
    }
   ],
   "source": [
    "import matplotlib.pyplot as plt\n",
    "\n",
    "# Count the unique values in the \"Red List Status\" column\n",
    "red_list_counts = df3[\"Red List Status\"].value_counts()\n",
    "\n",
    "# Plot the counts\n",
    "red_list_counts.plot(kind='bar')\n",
    "plt.xlabel('Red List Status')\n",
    "plt.ylabel('Count')\n",
    "plt.title('Counts of Unique Red List Status')\n",
    "plt.show()\n",
    "# Print the actual counts of all unique Red List Status\n",
    "print(red_list_counts)"
   ]
  },
  {
   "cell_type": "code",
   "execution_count": 6,
   "metadata": {},
   "outputs": [
    {
     "data": {
      "image/png": "[encoded data removed]",
      "text/plain": [
       "<Figure size 640x480 with 1 Axes>"
      ]
     },
     "metadata": {},
     "output_type": "display_data"
    }
   ],
   "source": [
    "# Plot the counts as a pie chart\n",
    "red_list_counts.plot(kind='pie', autopct='%1.1f%%', startangle=90)\n",
    "plt.ylabel('')\n",
    "plt.title('Distribution of Red List Status')\n",
    "plt.show()"
   ]
  },
  {
   "cell_type": "code",
   "execution_count": 15,
   "metadata": {},
   "outputs": [
    {
     "data": {
      "image/png": "[encoded data removed]",
      "text/plain": [
       "<Figure size 640x480 with 1 Axes>"
      ]
     },
     "metadata": {},
     "output_type": "display_data"
    }
   ],
   "source": [
    "import numpy as np\n",
    "\n",
    "import matplotlib.pyplot as plt\n",
    "\n",
    "# Define the options and their probabilities\n",
    "options = ['LC', 'VU', 'EN']\n",
    "probabilities = [0.815, 0.136, 0.049]\n",
    "\n",
    "# Initialize counters for each option\n",
    "counts = {'LC': [], 'VU': [], 'EN': []}\n",
    "current_counts = {'LC': 0, 'VU': 0, 'EN': 0}\n",
    "\n",
    "# Perform 100 iterations\n",
    "for i in range(200):\n",
    "    choice = np.random.choice(options, p=probabilities)\n",
    "    current_counts[choice] += 1\n",
    "    for option in options:\n",
    "        counts[option].append(current_counts[option])\n",
    "\n",
    "\n",
    "# Plot the results with specified colors\n",
    "plt.plot(range(1, 201), counts['LC'], label='LC', color='green')\n",
    "plt.plot(range(1, 201), counts['VU'], label='VU', color='orange')\n",
    "plt.plot(range(1, 201), counts['EN'], label='EN', color='red')\n",
    "plt.xlabel('Number of Iterations')\n",
    "plt.ylabel('Count')\n",
    "plt.title('Counts of Each Option Over 200 Iterations')\n",
    "plt.legend()\n",
    "plt.show()"
   ]
  },
  {
   "cell_type": "code",
   "execution_count": null,
   "metadata": {},
   "outputs": [],
   "source": []
  }
 ],
 "metadata": {
  "kernelspec": {
   "display_name": ".venv",
   "language": "python",
   "name": "python3"
  },
  "language_info": {
   "codemirror_mode": {
    "name": "ipython",
    "version": 3
   },
   "file_extension": ".py",
   "mimetype": "text/x-python",
   "name": "python",
   "nbconvert_exporter": "python",
   "pygments_lexer": "ipython3",
   "version": "3.11.3"
  }
 },
 "nbformat": 4,
 "nbformat_minor": 2
}
